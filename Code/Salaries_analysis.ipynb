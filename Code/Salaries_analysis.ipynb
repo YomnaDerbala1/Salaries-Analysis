{
 "cells": [
  {
   "cell_type": "markdown",
   "id": "3296c9c3",
   "metadata": {},
   "source": [
    "# Importing libraries and Data"
   ]
  },
  {
   "cell_type": "code",
   "execution_count": 1,
   "id": "b1e622cd",
   "metadata": {},
   "outputs": [
    {
     "name": "stderr",
     "output_type": "stream",
     "text": [
      "C:\\Users\\Hagress\\anaconda3\\lib\\site-packages\\IPython\\core\\interactiveshell.py:3165: DtypeWarning: Columns (3,4,5,6,12) have mixed types.Specify dtype option on import or set low_memory=False.\n",
      "  has_raised = await self.run_ast_nodes(code_ast.body, cell_name,\n"
     ]
    },
    {
     "data": {
      "text/html": [
       "<div>\n",
       "<style scoped>\n",
       "    .dataframe tbody tr th:only-of-type {\n",
       "        vertical-align: middle;\n",
       "    }\n",
       "\n",
       "    .dataframe tbody tr th {\n",
       "        vertical-align: top;\n",
       "    }\n",
       "\n",
       "    .dataframe thead th {\n",
       "        text-align: right;\n",
       "    }\n",
       "</style>\n",
       "<table border=\"1\" class=\"dataframe\">\n",
       "  <thead>\n",
       "    <tr style=\"text-align: right;\">\n",
       "      <th></th>\n",
       "      <th>Id</th>\n",
       "      <th>EmployeeName</th>\n",
       "      <th>JobTitle</th>\n",
       "      <th>BasePay</th>\n",
       "      <th>OvertimePay</th>\n",
       "      <th>OtherPay</th>\n",
       "      <th>Benefits</th>\n",
       "      <th>TotalPay</th>\n",
       "      <th>TotalPayBenefits</th>\n",
       "      <th>Year</th>\n",
       "      <th>Notes</th>\n",
       "      <th>Agency</th>\n",
       "      <th>Status</th>\n",
       "    </tr>\n",
       "  </thead>\n",
       "  <tbody>\n",
       "    <tr>\n",
       "      <th>0</th>\n",
       "      <td>1</td>\n",
       "      <td>NATHANIEL FORD</td>\n",
       "      <td>GENERAL MANAGER-METROPOLITAN TRANSIT AUTHORITY</td>\n",
       "      <td>167411.18</td>\n",
       "      <td>0.0</td>\n",
       "      <td>400184.25</td>\n",
       "      <td>NaN</td>\n",
       "      <td>567595.43</td>\n",
       "      <td>567595.43</td>\n",
       "      <td>2011</td>\n",
       "      <td>NaN</td>\n",
       "      <td>San Francisco</td>\n",
       "      <td>NaN</td>\n",
       "    </tr>\n",
       "    <tr>\n",
       "      <th>1</th>\n",
       "      <td>2</td>\n",
       "      <td>GARY JIMENEZ</td>\n",
       "      <td>CAPTAIN III (POLICE DEPARTMENT)</td>\n",
       "      <td>155966.02</td>\n",
       "      <td>245131.88</td>\n",
       "      <td>137811.38</td>\n",
       "      <td>NaN</td>\n",
       "      <td>538909.28</td>\n",
       "      <td>538909.28</td>\n",
       "      <td>2011</td>\n",
       "      <td>NaN</td>\n",
       "      <td>San Francisco</td>\n",
       "      <td>NaN</td>\n",
       "    </tr>\n",
       "    <tr>\n",
       "      <th>2</th>\n",
       "      <td>3</td>\n",
       "      <td>ALBERT PARDINI</td>\n",
       "      <td>CAPTAIN III (POLICE DEPARTMENT)</td>\n",
       "      <td>212739.13</td>\n",
       "      <td>106088.18</td>\n",
       "      <td>16452.6</td>\n",
       "      <td>NaN</td>\n",
       "      <td>335279.91</td>\n",
       "      <td>335279.91</td>\n",
       "      <td>2011</td>\n",
       "      <td>NaN</td>\n",
       "      <td>San Francisco</td>\n",
       "      <td>NaN</td>\n",
       "    </tr>\n",
       "    <tr>\n",
       "      <th>3</th>\n",
       "      <td>4</td>\n",
       "      <td>CHRISTOPHER CHONG</td>\n",
       "      <td>WIRE ROPE CABLE MAINTENANCE MECHANIC</td>\n",
       "      <td>77916.0</td>\n",
       "      <td>56120.71</td>\n",
       "      <td>198306.9</td>\n",
       "      <td>NaN</td>\n",
       "      <td>332343.61</td>\n",
       "      <td>332343.61</td>\n",
       "      <td>2011</td>\n",
       "      <td>NaN</td>\n",
       "      <td>San Francisco</td>\n",
       "      <td>NaN</td>\n",
       "    </tr>\n",
       "    <tr>\n",
       "      <th>4</th>\n",
       "      <td>5</td>\n",
       "      <td>PATRICK GARDNER</td>\n",
       "      <td>DEPUTY CHIEF OF DEPARTMENT,(FIRE DEPARTMENT)</td>\n",
       "      <td>134401.6</td>\n",
       "      <td>9737.0</td>\n",
       "      <td>182234.59</td>\n",
       "      <td>NaN</td>\n",
       "      <td>326373.19</td>\n",
       "      <td>326373.19</td>\n",
       "      <td>2011</td>\n",
       "      <td>NaN</td>\n",
       "      <td>San Francisco</td>\n",
       "      <td>NaN</td>\n",
       "    </tr>\n",
       "  </tbody>\n",
       "</table>\n",
       "</div>"
      ],
      "text/plain": [
       "   Id       EmployeeName                                        JobTitle  \\\n",
       "0   1     NATHANIEL FORD  GENERAL MANAGER-METROPOLITAN TRANSIT AUTHORITY   \n",
       "1   2       GARY JIMENEZ                 CAPTAIN III (POLICE DEPARTMENT)   \n",
       "2   3     ALBERT PARDINI                 CAPTAIN III (POLICE DEPARTMENT)   \n",
       "3   4  CHRISTOPHER CHONG            WIRE ROPE CABLE MAINTENANCE MECHANIC   \n",
       "4   5    PATRICK GARDNER    DEPUTY CHIEF OF DEPARTMENT,(FIRE DEPARTMENT)   \n",
       "\n",
       "     BasePay OvertimePay   OtherPay Benefits   TotalPay  TotalPayBenefits  \\\n",
       "0  167411.18         0.0  400184.25      NaN  567595.43         567595.43   \n",
       "1  155966.02   245131.88  137811.38      NaN  538909.28         538909.28   \n",
       "2  212739.13   106088.18    16452.6      NaN  335279.91         335279.91   \n",
       "3    77916.0    56120.71   198306.9      NaN  332343.61         332343.61   \n",
       "4   134401.6      9737.0  182234.59      NaN  326373.19         326373.19   \n",
       "\n",
       "   Year  Notes         Agency Status  \n",
       "0  2011    NaN  San Francisco    NaN  \n",
       "1  2011    NaN  San Francisco    NaN  \n",
       "2  2011    NaN  San Francisco    NaN  \n",
       "3  2011    NaN  San Francisco    NaN  \n",
       "4  2011    NaN  San Francisco    NaN  "
      ]
     },
     "execution_count": 1,
     "metadata": {},
     "output_type": "execute_result"
    }
   ],
   "source": [
    "import pandas as pd \n",
    "import numpy as np\n",
    "import pandasql as psql\n",
    "\n",
    "import matplotlib.pyplot as plt\n",
    "df = pd.read_csv('Salaries.csv')\n",
    "df.head()"
   ]
  },
  {
   "cell_type": "markdown",
   "id": "31e904ac",
   "metadata": {},
   "source": [
    "# Exploratory Data Analysis & Data Cleaning "
   ]
  },
  {
   "cell_type": "code",
   "execution_count": 2,
   "id": "311994a8",
   "metadata": {},
   "outputs": [
    {
     "name": "stdout",
     "output_type": "stream",
     "text": [
      "<class 'pandas.core.frame.DataFrame'>\n",
      "RangeIndex: 148654 entries, 0 to 148653\n",
      "Data columns (total 13 columns):\n",
      " #   Column            Non-Null Count   Dtype  \n",
      "---  ------            --------------   -----  \n",
      " 0   Id                148654 non-null  int64  \n",
      " 1   EmployeeName      148654 non-null  object \n",
      " 2   JobTitle          148654 non-null  object \n",
      " 3   BasePay           148049 non-null  object \n",
      " 4   OvertimePay       148654 non-null  object \n",
      " 5   OtherPay          148654 non-null  object \n",
      " 6   Benefits          112495 non-null  object \n",
      " 7   TotalPay          148654 non-null  float64\n",
      " 8   TotalPayBenefits  148654 non-null  float64\n",
      " 9   Year              148654 non-null  int64  \n",
      " 10  Notes             0 non-null       float64\n",
      " 11  Agency            148654 non-null  object \n",
      " 12  Status            38119 non-null   object \n",
      "dtypes: float64(3), int64(2), object(8)\n",
      "memory usage: 14.7+ MB\n"
     ]
    }
   ],
   "source": [
    "df.info()"
   ]
  },
  {
   "cell_type": "code",
   "execution_count": 3,
   "id": "6808fe9c",
   "metadata": {},
   "outputs": [
    {
     "data": {
      "text/plain": [
       "Id                    int64\n",
       "EmployeeName         object\n",
       "JobTitle             object\n",
       "BasePay             float64\n",
       "OvertimePay         float64\n",
       "OtherPay            float64\n",
       "Benefits            float64\n",
       "TotalPay            float64\n",
       "TotalPayBenefits    float64\n",
       "Year                  int64\n",
       "Notes               float64\n",
       "Agency               object\n",
       "Status               object\n",
       "dtype: object"
      ]
     },
     "execution_count": 3,
     "metadata": {},
     "output_type": "execute_result"
    }
   ],
   "source": [
    "df['BasePay'] = pd.to_numeric(df['BasePay'],errors = \"coerce\")\n",
    "df['OvertimePay'] = pd.to_numeric(df['OvertimePay'],errors = \"coerce\")\n",
    "df['OtherPay'] = pd.to_numeric(df['OtherPay'],errors = \"coerce\")\n",
    "df['Benefits'] = pd.to_numeric(df['Benefits'],errors = \"coerce\")\n",
    "df.dtypes"
   ]
  },
  {
   "cell_type": "code",
   "execution_count": 4,
   "id": "36c5e59d",
   "metadata": {},
   "outputs": [
    {
     "data": {
      "text/plain": [
       "Id                       0\n",
       "EmployeeName             0\n",
       "JobTitle                 0\n",
       "BasePay                609\n",
       "OvertimePay              4\n",
       "OtherPay                 4\n",
       "Benefits             36163\n",
       "TotalPay                 0\n",
       "TotalPayBenefits         0\n",
       "Year                     0\n",
       "Notes               148654\n",
       "Agency                   0\n",
       "Status              110535\n",
       "dtype: int64"
      ]
     },
     "execution_count": 4,
     "metadata": {},
     "output_type": "execute_result"
    }
   ],
   "source": [
    "df.isnull().sum()"
   ]
  },
  {
   "cell_type": "code",
   "execution_count": 5,
   "id": "048ae599",
   "metadata": {},
   "outputs": [
    {
     "data": {
      "text/plain": [
       "Id                       0\n",
       "EmployeeName             0\n",
       "JobTitle                 0\n",
       "BasePay                609\n",
       "OvertimePay              4\n",
       "OtherPay                 4\n",
       "Benefits             36163\n",
       "TotalPay                 0\n",
       "TotalPayBenefits         0\n",
       "Year                     0\n",
       "Agency                   0\n",
       "Status              110535\n",
       "dtype: int64"
      ]
     },
     "execution_count": 5,
     "metadata": {},
     "output_type": "execute_result"
    }
   ],
   "source": [
    "df.drop([\"Notes\"],axis = 1,inplace = True)\n",
    "df.isnull().sum()"
   ]
  },
  {
   "cell_type": "code",
   "execution_count": 6,
   "id": "0371a917",
   "metadata": {},
   "outputs": [
    {
     "data": {
      "text/html": [
       "<div>\n",
       "<style scoped>\n",
       "    .dataframe tbody tr th:only-of-type {\n",
       "        vertical-align: middle;\n",
       "    }\n",
       "\n",
       "    .dataframe tbody tr th {\n",
       "        vertical-align: top;\n",
       "    }\n",
       "\n",
       "    .dataframe thead th {\n",
       "        text-align: right;\n",
       "    }\n",
       "</style>\n",
       "<table border=\"1\" class=\"dataframe\">\n",
       "  <thead>\n",
       "    <tr style=\"text-align: right;\">\n",
       "      <th></th>\n",
       "      <th>Id</th>\n",
       "      <th>EmployeeName</th>\n",
       "      <th>JobTitle</th>\n",
       "      <th>BasePay</th>\n",
       "      <th>OvertimePay</th>\n",
       "      <th>OtherPay</th>\n",
       "      <th>Benefits</th>\n",
       "      <th>TotalPay</th>\n",
       "      <th>TotalPayBenefits</th>\n",
       "      <th>Year</th>\n",
       "      <th>Agency</th>\n",
       "      <th>Status</th>\n",
       "    </tr>\n",
       "  </thead>\n",
       "  <tbody>\n",
       "    <tr>\n",
       "      <th>148649</th>\n",
       "      <td>148650</td>\n",
       "      <td>Roy I Tillery</td>\n",
       "      <td>Custodian</td>\n",
       "      <td>0.0</td>\n",
       "      <td>0.0</td>\n",
       "      <td>0.00</td>\n",
       "      <td>0.0</td>\n",
       "      <td>0.00</td>\n",
       "      <td>0.00</td>\n",
       "      <td>2014</td>\n",
       "      <td>San Francisco</td>\n",
       "      <td>PT</td>\n",
       "    </tr>\n",
       "    <tr>\n",
       "      <th>148650</th>\n",
       "      <td>148651</td>\n",
       "      <td>Not provided</td>\n",
       "      <td>Not provided</td>\n",
       "      <td>NaN</td>\n",
       "      <td>NaN</td>\n",
       "      <td>NaN</td>\n",
       "      <td>NaN</td>\n",
       "      <td>0.00</td>\n",
       "      <td>0.00</td>\n",
       "      <td>2014</td>\n",
       "      <td>San Francisco</td>\n",
       "      <td>NaN</td>\n",
       "    </tr>\n",
       "    <tr>\n",
       "      <th>148651</th>\n",
       "      <td>148652</td>\n",
       "      <td>Not provided</td>\n",
       "      <td>Not provided</td>\n",
       "      <td>NaN</td>\n",
       "      <td>NaN</td>\n",
       "      <td>NaN</td>\n",
       "      <td>NaN</td>\n",
       "      <td>0.00</td>\n",
       "      <td>0.00</td>\n",
       "      <td>2014</td>\n",
       "      <td>San Francisco</td>\n",
       "      <td>NaN</td>\n",
       "    </tr>\n",
       "    <tr>\n",
       "      <th>148652</th>\n",
       "      <td>148653</td>\n",
       "      <td>Not provided</td>\n",
       "      <td>Not provided</td>\n",
       "      <td>NaN</td>\n",
       "      <td>NaN</td>\n",
       "      <td>NaN</td>\n",
       "      <td>NaN</td>\n",
       "      <td>0.00</td>\n",
       "      <td>0.00</td>\n",
       "      <td>2014</td>\n",
       "      <td>San Francisco</td>\n",
       "      <td>NaN</td>\n",
       "    </tr>\n",
       "    <tr>\n",
       "      <th>148653</th>\n",
       "      <td>148654</td>\n",
       "      <td>Joe Lopez</td>\n",
       "      <td>Counselor, Log Cabin Ranch</td>\n",
       "      <td>0.0</td>\n",
       "      <td>0.0</td>\n",
       "      <td>-618.13</td>\n",
       "      <td>0.0</td>\n",
       "      <td>-618.13</td>\n",
       "      <td>-618.13</td>\n",
       "      <td>2014</td>\n",
       "      <td>San Francisco</td>\n",
       "      <td>PT</td>\n",
       "    </tr>\n",
       "  </tbody>\n",
       "</table>\n",
       "</div>"
      ],
      "text/plain": [
       "            Id   EmployeeName                    JobTitle  BasePay  \\\n",
       "148649  148650  Roy I Tillery                   Custodian      0.0   \n",
       "148650  148651   Not provided                Not provided      NaN   \n",
       "148651  148652   Not provided                Not provided      NaN   \n",
       "148652  148653   Not provided                Not provided      NaN   \n",
       "148653  148654      Joe Lopez  Counselor, Log Cabin Ranch      0.0   \n",
       "\n",
       "        OvertimePay  OtherPay  Benefits  TotalPay  TotalPayBenefits  Year  \\\n",
       "148649          0.0      0.00       0.0      0.00              0.00  2014   \n",
       "148650          NaN       NaN       NaN      0.00              0.00  2014   \n",
       "148651          NaN       NaN       NaN      0.00              0.00  2014   \n",
       "148652          NaN       NaN       NaN      0.00              0.00  2014   \n",
       "148653          0.0   -618.13       0.0   -618.13           -618.13  2014   \n",
       "\n",
       "               Agency Status  \n",
       "148649  San Francisco     PT  \n",
       "148650  San Francisco    NaN  \n",
       "148651  San Francisco    NaN  \n",
       "148652  San Francisco    NaN  \n",
       "148653  San Francisco     PT  "
      ]
     },
     "execution_count": 6,
     "metadata": {},
     "output_type": "execute_result"
    }
   ],
   "source": [
    "df.tail()"
   ]
  },
  {
   "cell_type": "code",
   "execution_count": 7,
   "id": "cc490c0c",
   "metadata": {},
   "outputs": [
    {
     "data": {
      "text/html": [
       "<div>\n",
       "<style scoped>\n",
       "    .dataframe tbody tr th:only-of-type {\n",
       "        vertical-align: middle;\n",
       "    }\n",
       "\n",
       "    .dataframe tbody tr th {\n",
       "        vertical-align: top;\n",
       "    }\n",
       "\n",
       "    .dataframe thead th {\n",
       "        text-align: right;\n",
       "    }\n",
       "</style>\n",
       "<table border=\"1\" class=\"dataframe\">\n",
       "  <thead>\n",
       "    <tr style=\"text-align: right;\">\n",
       "      <th></th>\n",
       "      <th>Id</th>\n",
       "      <th>EmployeeName</th>\n",
       "      <th>JobTitle</th>\n",
       "      <th>BasePay</th>\n",
       "      <th>OvertimePay</th>\n",
       "      <th>OtherPay</th>\n",
       "      <th>Benefits</th>\n",
       "      <th>TotalPay</th>\n",
       "      <th>TotalPayBenefits</th>\n",
       "      <th>Year</th>\n",
       "      <th>Agency</th>\n",
       "      <th>Status</th>\n",
       "    </tr>\n",
       "  </thead>\n",
       "  <tbody>\n",
       "    <tr>\n",
       "      <th>148645</th>\n",
       "      <td>148646</td>\n",
       "      <td>Carolyn A Wilson</td>\n",
       "      <td>Human Services Technician</td>\n",
       "      <td>0.0</td>\n",
       "      <td>0.0</td>\n",
       "      <td>0.00</td>\n",
       "      <td>0.0</td>\n",
       "      <td>0.00</td>\n",
       "      <td>0.00</td>\n",
       "      <td>2014</td>\n",
       "      <td>San Francisco</td>\n",
       "      <td>PT</td>\n",
       "    </tr>\n",
       "    <tr>\n",
       "      <th>148647</th>\n",
       "      <td>148648</td>\n",
       "      <td>Joann Anderson</td>\n",
       "      <td>Communications Dispatcher 2</td>\n",
       "      <td>0.0</td>\n",
       "      <td>0.0</td>\n",
       "      <td>0.00</td>\n",
       "      <td>0.0</td>\n",
       "      <td>0.00</td>\n",
       "      <td>0.00</td>\n",
       "      <td>2014</td>\n",
       "      <td>San Francisco</td>\n",
       "      <td>PT</td>\n",
       "    </tr>\n",
       "    <tr>\n",
       "      <th>148648</th>\n",
       "      <td>148649</td>\n",
       "      <td>Leon Walker</td>\n",
       "      <td>Custodian</td>\n",
       "      <td>0.0</td>\n",
       "      <td>0.0</td>\n",
       "      <td>0.00</td>\n",
       "      <td>0.0</td>\n",
       "      <td>0.00</td>\n",
       "      <td>0.00</td>\n",
       "      <td>2014</td>\n",
       "      <td>San Francisco</td>\n",
       "      <td>PT</td>\n",
       "    </tr>\n",
       "    <tr>\n",
       "      <th>148649</th>\n",
       "      <td>148650</td>\n",
       "      <td>Roy I Tillery</td>\n",
       "      <td>Custodian</td>\n",
       "      <td>0.0</td>\n",
       "      <td>0.0</td>\n",
       "      <td>0.00</td>\n",
       "      <td>0.0</td>\n",
       "      <td>0.00</td>\n",
       "      <td>0.00</td>\n",
       "      <td>2014</td>\n",
       "      <td>San Francisco</td>\n",
       "      <td>PT</td>\n",
       "    </tr>\n",
       "    <tr>\n",
       "      <th>148653</th>\n",
       "      <td>148654</td>\n",
       "      <td>Joe Lopez</td>\n",
       "      <td>Counselor, Log Cabin Ranch</td>\n",
       "      <td>0.0</td>\n",
       "      <td>0.0</td>\n",
       "      <td>-618.13</td>\n",
       "      <td>0.0</td>\n",
       "      <td>-618.13</td>\n",
       "      <td>-618.13</td>\n",
       "      <td>2014</td>\n",
       "      <td>San Francisco</td>\n",
       "      <td>PT</td>\n",
       "    </tr>\n",
       "  </tbody>\n",
       "</table>\n",
       "</div>"
      ],
      "text/plain": [
       "            Id      EmployeeName                     JobTitle  BasePay  \\\n",
       "148645  148646  Carolyn A Wilson    Human Services Technician      0.0   \n",
       "148647  148648    Joann Anderson  Communications Dispatcher 2      0.0   \n",
       "148648  148649       Leon Walker                    Custodian      0.0   \n",
       "148649  148650     Roy I Tillery                    Custodian      0.0   \n",
       "148653  148654         Joe Lopez   Counselor, Log Cabin Ranch      0.0   \n",
       "\n",
       "        OvertimePay  OtherPay  Benefits  TotalPay  TotalPayBenefits  Year  \\\n",
       "148645          0.0      0.00       0.0      0.00              0.00  2014   \n",
       "148647          0.0      0.00       0.0      0.00              0.00  2014   \n",
       "148648          0.0      0.00       0.0      0.00              0.00  2014   \n",
       "148649          0.0      0.00       0.0      0.00              0.00  2014   \n",
       "148653          0.0   -618.13       0.0   -618.13           -618.13  2014   \n",
       "\n",
       "               Agency Status  \n",
       "148645  San Francisco     PT  \n",
       "148647  San Francisco     PT  \n",
       "148648  San Francisco     PT  \n",
       "148649  San Francisco     PT  \n",
       "148653  San Francisco     PT  "
      ]
     },
     "execution_count": 7,
     "metadata": {},
     "output_type": "execute_result"
    }
   ],
   "source": [
    "df = df[df.ne('Not provided').all(axis=1)]\n",
    "df.tail()"
   ]
  },
  {
   "cell_type": "code",
   "execution_count": 8,
   "id": "02acff6d",
   "metadata": {},
   "outputs": [
    {
     "data": {
      "image/png": "[encoded data removed]",
      "text/plain": [
       "<Figure size 576x432 with 1 Axes>"
      ]
     },
     "metadata": {
      "needs_background": "light"
     },
     "output_type": "display_data"
    }
   ],
   "source": [
    "plt.figure(figsize = (8,6))\n",
    "plt.hist(df[\"BasePay\"],bins=50,color=\"skyblue\",edgecolor=\"black\")\n",
    "plt.xlabel(\"BasePay\")\n",
    "plt.ylabel(\"frequency\")\n",
    "plt.title(\"Distribution of BasePay\")\n",
    "plt.grid(True)\n",
    "plt.show()"
   ]
  },
  {
   "cell_type": "code",
   "execution_count": 9,
   "id": "312c7404",
   "metadata": {},
   "outputs": [
    {
     "data": {
      "text/plain": [
       "Id                       0\n",
       "EmployeeName             0\n",
       "JobTitle                 0\n",
       "BasePay                  0\n",
       "OvertimePay              0\n",
       "OtherPay                 0\n",
       "Benefits             36159\n",
       "TotalPay                 0\n",
       "TotalPayBenefits         0\n",
       "Year                     0\n",
       "Agency                   0\n",
       "Status              110531\n",
       "dtype: int64"
      ]
     },
     "execution_count": 9,
     "metadata": {},
     "output_type": "execute_result"
    }
   ],
   "source": [
    "median_basepay = df[\"BasePay\"].median()\n",
    "df[\"BasePay\"].fillna(median_basepay , inplace = True)\n",
    "df.isnull().sum()"
   ]
  },
  {
   "cell_type": "code",
   "execution_count": 10,
   "id": "cb842cce",
   "metadata": {},
   "outputs": [
    {
     "data": {
      "image/png": "[encoded data removed]",
      "text/plain": [
       "<Figure size 576x432 with 1 Axes>"
      ]
     },
     "metadata": {
      "needs_background": "light"
     },
     "output_type": "display_data"
    }
   ],
   "source": [
    "plt.figure(figsize = (8,6))\n",
    "plt.hist(df[\"OvertimePay\"],bins=50,color=\"skyblue\",edgecolor =\"black\")\n",
    "plt.xlabel(\"OverTimePay\")\n",
    "plt.ylabel(\"frequency\")\n",
    "plt.title(\"Distribution of OverTimePay\")\n",
    "plt.grid(True)\n",
    "plt.show()"
   ]
  },
  {
   "cell_type": "code",
   "execution_count": 11,
   "id": "8e21a624",
   "metadata": {},
   "outputs": [
    {
     "data": {
      "text/plain": [
       "Id                       0\n",
       "EmployeeName             0\n",
       "JobTitle                 0\n",
       "BasePay                  0\n",
       "OvertimePay              0\n",
       "OtherPay                 0\n",
       "Benefits             36159\n",
       "TotalPay                 0\n",
       "TotalPayBenefits         0\n",
       "Year                     0\n",
       "Agency                   0\n",
       "Status              110531\n",
       "dtype: int64"
      ]
     },
     "execution_count": 11,
     "metadata": {},
     "output_type": "execute_result"
    }
   ],
   "source": [
    "median_OvertimePay = df[\"OvertimePay\"].median()\n",
    "df[\"OvertimePay\"].fillna(median_OvertimePay , inplace = True)\n",
    "df.isnull().sum()"
   ]
  },
  {
   "cell_type": "code",
   "execution_count": 12,
   "id": "463744a6",
   "metadata": {},
   "outputs": [
    {
     "data": {
      "image/png": "[encoded data removed]",
      "text/plain": [
       "<Figure size 576x432 with 1 Axes>"
      ]
     },
     "metadata": {
      "needs_background": "light"
     },
     "output_type": "display_data"
    }
   ],
   "source": [
    "plt.figure(figsize = (8,6))\n",
    "plt.hist(df[\"OtherPay\"],bins=50,color=\"skyblue\",edgecolor =\"black\")\n",
    "plt.xlabel(\"OtherPay\")\n",
    "plt.ylabel(\"frequency\")\n",
    "plt.title(\"Distribution of OtherPay\")\n",
    "plt.grid(True)\n",
    "plt.show()"
   ]
  },
  {
   "cell_type": "code",
   "execution_count": 13,
   "id": "a2f632d2",
   "metadata": {},
   "outputs": [
    {
     "data": {
      "text/plain": [
       "Id                       0\n",
       "EmployeeName             0\n",
       "JobTitle                 0\n",
       "BasePay                  0\n",
       "OvertimePay              0\n",
       "OtherPay                 0\n",
       "Benefits             36159\n",
       "TotalPay                 0\n",
       "TotalPayBenefits         0\n",
       "Year                     0\n",
       "Agency                   0\n",
       "Status              110531\n",
       "dtype: int64"
      ]
     },
     "execution_count": 13,
     "metadata": {},
     "output_type": "execute_result"
    }
   ],
   "source": [
    "median_OtherPay = df[\"OtherPay\"].median()\n",
    "df[\"OtherPay\"].fillna(median_OtherPay , inplace = True)\n",
    "df.isnull().sum()"
   ]
  },
  {
   "cell_type": "code",
   "execution_count": 14,
   "id": "abf44401",
   "metadata": {},
   "outputs": [
    {
     "data": {
      "image/png": "[encoded data removed]",
      "text/plain": [
       "<Figure size 576x432 with 1 Axes>"
      ]
     },
     "metadata": {
      "needs_background": "light"
     },
     "output_type": "display_data"
    }
   ],
   "source": [
    "plt.figure(figsize = (8,6))\n",
    "plt.hist(df[\"Benefits\"],bins=50,color=\"skyblue\",edgecolor =\"black\")\n",
    "plt.xlabel(\"Benefits\")\n",
    "plt.ylabel(\"frequency\")\n",
    "plt.title(\"Distribution of Benefits\")\n",
    "plt.grid(True)\n",
    "plt.show()"
   ]
  },
  {
   "cell_type": "code",
   "execution_count": 15,
   "id": "32493cfc",
   "metadata": {},
   "outputs": [
    {
     "data": {
      "text/plain": [
       "Id                       0\n",
       "EmployeeName             0\n",
       "JobTitle                 0\n",
       "BasePay                  0\n",
       "OvertimePay              0\n",
       "OtherPay                 0\n",
       "Benefits                 0\n",
       "TotalPay                 0\n",
       "TotalPayBenefits         0\n",
       "Year                     0\n",
       "Agency                   0\n",
       "Status              110531\n",
       "dtype: int64"
      ]
     },
     "execution_count": 15,
     "metadata": {},
     "output_type": "execute_result"
    }
   ],
   "source": [
    "median_Benefits = df[\"Benefits\"].median()\n",
    "df[\"Benefits\"].fillna(median_Benefits , inplace = True)\n",
    "df.isnull().sum()"
   ]
  },
  {
   "cell_type": "code",
   "execution_count": 16,
   "id": "a1936031",
   "metadata": {},
   "outputs": [
    {
     "data": {
      "text/plain": [
       "Id                  0\n",
       "EmployeeName        0\n",
       "JobTitle            0\n",
       "BasePay             0\n",
       "OvertimePay         0\n",
       "OtherPay            0\n",
       "Benefits            0\n",
       "TotalPay            0\n",
       "TotalPayBenefits    0\n",
       "Year                0\n",
       "Agency              0\n",
       "Status              0\n",
       "dtype: int64"
      ]
     },
     "execution_count": 16,
     "metadata": {},
     "output_type": "execute_result"
    }
   ],
   "source": [
    "mode_status = df[\"Status\"].mode()[0]\n",
    "df[\"Status\"].fillna(mode_status , inplace = True)\n",
    "df.isnull().sum()"
   ]
  },
  {
   "cell_type": "code",
   "execution_count": 17,
   "id": "ce1dd683",
   "metadata": {},
   "outputs": [],
   "source": [
    "df['BasePay'] = df['BasePay'].apply(lambda x: max(0, x))\n",
    "df['OvertimePay'] = df['OvertimePay'].apply(lambda x: max(0, x))\n",
    "df['OtherPay'] = df['OtherPay'].apply(lambda x: max(0, x))\n",
    "df['Benefits'] = df['Benefits'].apply(lambda x: max(0, x))\n",
    "df['TotalPay'] = df['TotalPay'].apply(lambda x: max(0, x))\n",
    "df['TotalPayBenefits'] = df['TotalPayBenefits'].apply(lambda x: max(0, x))"
   ]
  },
  {
   "cell_type": "markdown",
   "id": "ff2cf990",
   "metadata": {},
   "source": [
    "# Q1: What is the average BasePay across all job titles?\n"
   ]
  },
  {
   "cell_type": "markdown",
   "id": "11b4c2d3",
   "metadata": {},
   "source": [
    "# PYTHON CODE\n"
   ]
  },
  {
   "cell_type": "code",
   "execution_count": 18,
   "id": "8e16df60",
   "metadata": {},
   "outputs": [
    {
     "name": "stdout",
     "output_type": "stream",
     "text": [
      "The average BasePay across all job titles is: 66320.09110018634\n"
     ]
    }
   ],
   "source": [
    "average_base_pay = df['BasePay'].mean()\n",
    "print(\"The average BasePay across all job titles is:\", average_base_pay)"
   ]
  },
  {
   "cell_type": "markdown",
   "id": "1c7f7ed1",
   "metadata": {},
   "source": [
    "# sql code\n"
   ]
  },
  {
   "cell_type": "code",
   "execution_count": 19,
   "id": "d8dc7bd3",
   "metadata": {},
   "outputs": [
    {
     "name": "stdout",
     "output_type": "stream",
     "text": [
      "   average_base_pay\n",
      "0        66320.0911\n"
     ]
    }
   ],
   "source": [
    "query = \"SELECT AVG(BasePay) AS average_base_pay FROM df\"\n",
    "result = psql.sqldf(query, locals())\n",
    "print(result)"
   ]
  },
  {
   "cell_type": "markdown",
   "id": "7049b313",
   "metadata": {},
   "source": [
    "# Q2: Which job title has the highest BasePay?\n"
   ]
  },
  {
   "cell_type": "markdown",
   "id": "d2ad41ee",
   "metadata": {},
   "source": [
    "# PYTHON CODE\n"
   ]
  },
  {
   "cell_type": "code",
   "execution_count": 20,
   "id": "57c0c810",
   "metadata": {},
   "outputs": [
    {
     "name": "stdout",
     "output_type": "stream",
     "text": [
      "The job title with the highest BasePay is: Chief of Police: 319275.01\n"
     ]
    }
   ],
   "source": [
    "highest_basepay= df[df['BasePay'] == df['BasePay'].max()]\n",
    "job_title = highest_basepay['JobTitle'].values[0]\n",
    "base_pay = highest_basepay['BasePay'].values[0]\n",
    "print(f\"The job title with the highest BasePay is: {job_title}: {base_pay}\")"
   ]
  },
  {
   "cell_type": "markdown",
   "id": "cbee0d53",
   "metadata": {},
   "source": [
    "# sql code\n"
   ]
  },
  {
   "cell_type": "code",
   "execution_count": 21,
   "id": "a01aa625",
   "metadata": {},
   "outputs": [
    {
     "name": "stdout",
     "output_type": "stream",
     "text": [
      "          JobTitle    BasePay\n",
      "0  Chief of Police  319275.01\n"
     ]
    }
   ],
   "source": [
    "query=\"SELECT JobTitle, BasePay FROM df ORDER BY BasePay DESC LIMIT 1\"\n",
    "result = psql.sqldf(query, locals())\n",
    "print(result)"
   ]
  },
  {
   "cell_type": "markdown",
   "id": "6ccbdb92",
   "metadata": {},
   "source": [
    "# Q3: How many unique job titles are there in the dataset?\n"
   ]
  },
  {
   "cell_type": "markdown",
   "id": "5db43cbd",
   "metadata": {},
   "source": [
    "# PYTHON CODE\n"
   ]
  },
  {
   "cell_type": "code",
   "execution_count": 22,
   "id": "38c564f3",
   "metadata": {},
   "outputs": [
    {
     "name": "stdout",
     "output_type": "stream",
     "text": [
      "1636\n"
     ]
    }
   ],
   "source": [
    "df['JobTitle'] = df['JobTitle'].str.strip().str.lower()\n",
    "unique_job_titles = df['JobTitle'].nunique()\n",
    "print(unique_job_titles)"
   ]
  },
  {
   "cell_type": "markdown",
   "id": "feddd518",
   "metadata": {},
   "source": [
    "# sql code\n",
    " "
   ]
  },
  {
   "cell_type": "code",
   "execution_count": 23,
   "id": "01012a91",
   "metadata": {},
   "outputs": [
    {
     "name": "stdout",
     "output_type": "stream",
     "text": [
      "   UniqueJobTitles\n",
      "0             1636\n"
     ]
    }
   ],
   "source": [
    "query=\"SELECT COUNT(distinct JobTitle) AS UniqueJobTitles from df\"\n",
    "result = psql.sqldf(query, locals())\n",
    "print(result)"
   ]
  },
  {
   "cell_type": "markdown",
   "id": "faf44950",
   "metadata": {},
   "source": [
    "# Q4: What is the total OvertimePay for each year?\n"
   ]
  },
  {
   "cell_type": "markdown",
   "id": "bc4d206d",
   "metadata": {},
   "source": [
    "# PYTHON CODE\n"
   ]
  },
  {
   "cell_type": "code",
   "execution_count": 24,
   "id": "63dc7749",
   "metadata": {},
   "outputs": [
    {
     "name": "stdout",
     "output_type": "stream",
     "text": [
      "Year\n",
      "2011    1.638388e+08\n",
      "2012    1.846910e+08\n",
      "2013    1.986214e+08\n",
      "2014    2.059186e+08\n",
      "Name: OvertimePay, dtype: float64\n"
     ]
    }
   ],
   "source": [
    "total_overtime_pay = df.groupby('Year')['OvertimePay'].sum()\n",
    "print(total_overtime_pay)"
   ]
  },
  {
   "cell_type": "markdown",
   "id": "70944100",
   "metadata": {},
   "source": [
    "# sql code\n"
   ]
  },
  {
   "cell_type": "code",
   "execution_count": 25,
   "id": "16fa8cf3",
   "metadata": {},
   "outputs": [
    {
     "name": "stdout",
     "output_type": "stream",
     "text": [
      "   Year  TotalOvertimePay\n",
      "0  2011      1.638388e+08\n",
      "1  2012      1.846910e+08\n",
      "2  2013      1.986214e+08\n",
      "3  2014      2.059186e+08\n"
     ]
    }
   ],
   "source": [
    "query=\"\"\"SELECT Year, SUM(OvertimePay) AS TotalOvertimePay\n",
    "FROM df\n",
    "GROUP BY Year\"\"\"\n",
    "result = psql.sqldf(query, locals())\n",
    "print(result)"
   ]
  },
  {
   "cell_type": "markdown",
   "id": "2effd676",
   "metadata": {},
   "source": [
    "# Q5: Which year had the highest average OtherPay?\n",
    " "
   ]
  },
  {
   "cell_type": "markdown",
   "id": "4c987722",
   "metadata": {},
   "source": [
    "# PYTHON CODE"
   ]
  },
  {
   "cell_type": "code",
   "execution_count": 26,
   "id": "caa8f560",
   "metadata": {},
   "outputs": [
    {
     "name": "stdout",
     "output_type": "stream",
     "text": [
      "2013\n"
     ]
    }
   ],
   "source": [
    "average_other_pay = df.groupby('Year')['OtherPay'].mean()\n",
    "year_with_highest_avg_otherpay = average_other_pay.idxmax()\n",
    "highest_avg_otherpay = average_other_pay.max()\n",
    "print(year_with_highest_avg_otherpay)"
   ]
  },
  {
   "cell_type": "markdown",
   "id": "b99c285b",
   "metadata": {},
   "source": [
    "#  sql code"
   ]
  },
  {
   "cell_type": "code",
   "execution_count": 27,
   "id": "9fa2f6c9",
   "metadata": {},
   "outputs": [
    {
     "name": "stdout",
     "output_type": "stream",
     "text": [
      "   Year\n",
      "0  2013\n"
     ]
    }
   ],
   "source": [
    "query=\"\"\"SELECT Year\n",
    "FROM (\n",
    "    SELECT Year, AVG(OtherPay) AS AverageOtherPay\n",
    "    FROM df\n",
    "    GROUP BY Year\n",
    ") AS subquery\n",
    "ORDER BY AverageOtherPay DESC\n",
    "LIMIT 1\"\"\"\n",
    "result = psql.sqldf(query, locals())\n",
    "print(result)"
   ]
  },
  {
   "cell_type": "markdown",
   "id": "2e29d208",
   "metadata": {},
   "source": [
    "# Q6: What is the median TotalPay for each job title?\n"
   ]
  },
  {
   "cell_type": "markdown",
   "id": "0d53138b",
   "metadata": {},
   "source": [
    "# PYTHON CODE\n"
   ]
  },
  {
   "cell_type": "code",
   "execution_count": 28,
   "id": "cc3494ae",
   "metadata": {},
   "outputs": [
    {
     "name": "stdout",
     "output_type": "stream",
     "text": [
      "JobTitle\n",
      "account clerk                                     50401.800\n",
      "accountant                                        60076.240\n",
      "accountant i                                      67403.330\n",
      "accountant ii                                     69386.660\n",
      "accountant iii                                    89570.445\n",
      "                                                    ...    \n",
      "worker's compensation supervisor i                92344.780\n",
      "x-ray laboratory aide                             60176.955\n",
      "youth comm advisor                                44449.895\n",
      "youth commission advisor, board of supervisors    53632.870\n",
      "zoo curator                                       66686.560\n",
      "Name: TotalPay, Length: 1636, dtype: float64\n"
     ]
    }
   ],
   "source": [
    "median_total_pay_per_job_title = df.groupby('JobTitle')['TotalPay'].median()\n",
    "print(median_total_pay_per_job_title)"
   ]
  },
  {
   "cell_type": "markdown",
   "id": "ed3c06f8",
   "metadata": {},
   "source": [
    "# Q7: How many employees are there in each agency?\n"
   ]
  },
  {
   "cell_type": "markdown",
   "id": "74cb2061",
   "metadata": {},
   "source": [
    "# PYTHON CODE\n"
   ]
  },
  {
   "cell_type": "code",
   "execution_count": 29,
   "id": "d90eafcb",
   "metadata": {},
   "outputs": [
    {
     "name": "stdout",
     "output_type": "stream",
     "text": [
      "San Francisco    148650\n",
      "Name: Agency, dtype: int64\n"
     ]
    }
   ],
   "source": [
    "employees_per_agency = df['Agency'].value_counts()\n",
    "print(employees_per_agency)"
   ]
  },
  {
   "cell_type": "markdown",
   "id": "ba37ea89",
   "metadata": {},
   "source": [
    "# sql code\n"
   ]
  },
  {
   "cell_type": "code",
   "execution_count": 30,
   "id": "98922080",
   "metadata": {},
   "outputs": [
    {
     "name": "stdout",
     "output_type": "stream",
     "text": [
      "          Agency  EmployeeCount\n",
      "0  San Francisco         148650\n"
     ]
    }
   ],
   "source": [
    "query=\"\"\"SELECT Agency, COUNT(*) AS EmployeeCount\n",
    "FROM df\n",
    "GROUP BY Agency\"\"\"\n",
    "result = psql.sqldf(query, locals())\n",
    "print(result)"
   ]
  },
  {
   "cell_type": "markdown",
   "id": "b5866c29",
   "metadata": {},
   "source": [
    "# Q8: What is the maximum Benefits offered by any agency?\n"
   ]
  },
  {
   "cell_type": "markdown",
   "id": "73b9d6ad",
   "metadata": {},
   "source": [
    "# PYTHON CODE"
   ]
  },
  {
   "cell_type": "code",
   "execution_count": 31,
   "id": "fe003937",
   "metadata": {},
   "outputs": [
    {
     "name": "stdout",
     "output_type": "stream",
     "text": [
      "96570.66\n"
     ]
    }
   ],
   "source": [
    "max_benefits = df['Benefits'].max()\n",
    "print(max_benefits)"
   ]
  },
  {
   "cell_type": "markdown",
   "id": "d152f73d",
   "metadata": {},
   "source": [
    "# sql code"
   ]
  },
  {
   "cell_type": "code",
   "execution_count": 32,
   "id": "b717ef7d",
   "metadata": {},
   "outputs": [
    {
     "name": "stdout",
     "output_type": "stream",
     "text": [
      "   max_benefits\n",
      "0      96570.66\n"
     ]
    }
   ],
   "source": [
    "query=\"\"\"SELECT MAX(Benefits) AS max_benefits\n",
    "FROM df\"\"\"\n",
    "result = psql.sqldf(query, locals())\n",
    "print(result)"
   ]
  },
  {
   "cell_type": "markdown",
   "id": "d4dcb8f5",
   "metadata": {},
   "source": [
    "# Q9: What is the total BasePay, OvertimePay, and OtherPay for each employee?\n",
    " "
   ]
  },
  {
   "cell_type": "markdown",
   "id": "5eb1adc5",
   "metadata": {},
   "source": [
    "# PYTHON CODE\n"
   ]
  },
  {
   "cell_type": "code",
   "execution_count": 33,
   "id": "ec357140",
   "metadata": {},
   "outputs": [
    {
     "name": "stdout",
     "output_type": "stream",
     "text": [
      "                         BasePay  OvertimePay  OtherPay\n",
      "EmployeeName                                           \n",
      "A BERNARD FATOOH        19969.37         0.00     70.54\n",
      "A Bernard  Fatooh       23908.50         0.00     15.12\n",
      "A Bernard Fatooh        42533.70         0.00     27.84\n",
      "A ELIZABETH MARCHASIN   23591.80         0.00   2691.06\n",
      "A JAMIL NIAZI           69058.19         0.00  18438.02\n",
      "...                          ...          ...       ...\n",
      "Zun Jin Zhang He       105225.01      3691.82   6723.91\n",
      "Zuna Luu                51502.86         0.00   1015.22\n",
      "Zuna T Luu             109729.00       264.36   2249.99\n",
      "Zuri  Jones             71986.90         0.00      0.00\n",
      "Zuri Jones             153256.06         0.00      0.00\n",
      "\n",
      "[110810 rows x 3 columns]\n"
     ]
    }
   ],
   "source": [
    "totals_per_employee = df.groupby('EmployeeName')[['BasePay', 'OvertimePay', 'OtherPay']].sum()\n",
    "print(totals_per_employee)"
   ]
  },
  {
   "cell_type": "markdown",
   "id": "09ffd43c",
   "metadata": {},
   "source": [
    "# sql code"
   ]
  },
  {
   "cell_type": "code",
   "execution_count": 34,
   "id": "e1292afe",
   "metadata": {},
   "outputs": [
    {
     "name": "stdout",
     "output_type": "stream",
     "text": [
      "                 EmployeeName    BasePay  OvertimePay  OtherPay\n",
      "0            A BERNARD FATOOH   19969.37         0.00     70.54\n",
      "1           A Bernard  Fatooh   23908.50         0.00     15.12\n",
      "2            A Bernard Fatooh   42533.70         0.00     27.84\n",
      "3       A ELIZABETH MARCHASIN   23591.80         0.00   2691.06\n",
      "4               A JAMIL NIAZI   69058.19         0.00  18438.02\n",
      "...                       ...        ...          ...       ...\n",
      "110805       Zun Jin Zhang He  105225.01      3691.82   6723.91\n",
      "110806               Zuna Luu   51502.86         0.00   1015.22\n",
      "110807             Zuna T Luu  109729.00       264.36   2249.99\n",
      "110808            Zuri  Jones   71986.90         0.00      0.00\n",
      "110809             Zuri Jones  153256.06         0.00      0.00\n",
      "\n",
      "[110810 rows x 4 columns]\n"
     ]
    }
   ],
   "source": [
    "query=\"\"\"SELECT EmployeeName, \n",
    "       SUM(BasePay) AS BasePay, \n",
    "       SUM(OvertimePay) AS OvertimePay, \n",
    "       SUM(OtherPay) AS OtherPay\n",
    "FROM df\n",
    "GROUP BY EmployeeName\"\"\"\n",
    "result = psql.sqldf(query, locals())\n",
    "print(result)"
   ]
  },
  {
   "cell_type": "markdown",
   "id": "2571a75e",
   "metadata": {},
   "source": [
    "# Q10: Which employee has the highest TotalPayBenefits?\n"
   ]
  },
  {
   "cell_type": "markdown",
   "id": "04a2889a",
   "metadata": {},
   "source": [
    "# PYTHON CODE\n"
   ]
  },
  {
   "cell_type": "code",
   "execution_count": 35,
   "id": "ba0eb0cd",
   "metadata": {},
   "outputs": [
    {
     "name": "stdout",
     "output_type": "stream",
     "text": [
      "NATHANIEL FORD\n"
     ]
    }
   ],
   "source": [
    "employee_highest_total_pay_benefits = df.loc[df['TotalPayBenefits'].idxmax()]['EmployeeName']\n",
    "print(employee_highest_total_pay_benefits)"
   ]
  },
  {
   "cell_type": "markdown",
   "id": "759c527a",
   "metadata": {},
   "source": [
    "# sql code\n"
   ]
  },
  {
   "cell_type": "code",
   "execution_count": 36,
   "id": "8eca64ed",
   "metadata": {},
   "outputs": [
    {
     "name": "stdout",
     "output_type": "stream",
     "text": [
      "     EmployeeName\n",
      "0  NATHANIEL FORD\n"
     ]
    }
   ],
   "source": [
    "query=\"\"\"SELECT EmployeeName\n",
    "FROM df\n",
    "ORDER BY TotalPayBenefits DESC\n",
    "LIMIT 1\"\"\"\n",
    "result = psql.sqldf(query, locals())\n",
    "print(result)"
   ]
  },
  {
   "cell_type": "markdown",
   "id": "a34fb2d6",
   "metadata": {},
   "source": [
    "# Q11: How does the average TotalPayBenefits vary across years?\n"
   ]
  },
  {
   "cell_type": "markdown",
   "id": "e57b1ba8",
   "metadata": {},
   "source": [
    "# PYTHON CODE\n"
   ]
  },
  {
   "cell_type": "code",
   "execution_count": 37,
   "id": "b1164d18",
   "metadata": {},
   "outputs": [
    {
     "name": "stdout",
     "output_type": "stream",
     "text": [
      "Year\n",
      "2011     71744.103871\n",
      "2012    100553.229232\n",
      "2013    101440.520906\n",
      "2014    100261.454884\n",
      "Name: TotalPayBenefits, dtype: float64\n"
     ]
    }
   ],
   "source": [
    "average_total_pay_benefits_per_year = df.groupby('Year')['TotalPayBenefits'].mean()\n",
    "print(average_total_pay_benefits_per_year)"
   ]
  },
  {
   "cell_type": "markdown",
   "id": "4b4774e0",
   "metadata": {},
   "source": [
    "# sql code\n"
   ]
  },
  {
   "cell_type": "code",
   "execution_count": 38,
   "id": "8e62d225",
   "metadata": {},
   "outputs": [
    {
     "name": "stdout",
     "output_type": "stream",
     "text": [
      "   Year  AvgTotalPayBenefits\n",
      "0  2011         71744.103871\n",
      "1  2012        100553.229232\n",
      "2  2013        101440.520906\n",
      "3  2014        100261.454884\n"
     ]
    }
   ],
   "source": [
    "query=\"\"\"SELECT Year, AVG(TotalPayBenefits) AS AvgTotalPayBenefits\n",
    "FROM df\n",
    "GROUP BY Year\n",
    "ORDER BY Year\"\"\"\n",
    "result = psql.sqldf(query, locals())\n",
    "print(result)"
   ]
  },
  {
   "cell_type": "markdown",
   "id": "cb494a44",
   "metadata": {},
   "source": [
    "# Q12: What is the total BasePay for each status (full-time, part-time, etc.)?\n"
   ]
  },
  {
   "cell_type": "markdown",
   "id": "32328a02",
   "metadata": {},
   "source": [
    "# PYTHON CODE\n"
   ]
  },
  {
   "cell_type": "code",
   "execution_count": 39,
   "id": "312f6e14",
   "metadata": {},
   "outputs": [
    {
     "name": "stdout",
     "output_type": "stream",
     "text": [
      "Status\n",
      "FT    9.357392e+09\n",
      "PT    5.010892e+08\n",
      "Name: BasePay, dtype: float64\n"
     ]
    }
   ],
   "source": [
    "total_basepay_per_status = df.groupby('Status')['BasePay'].sum()\n",
    "print(total_basepay_per_status)"
   ]
  },
  {
   "cell_type": "markdown",
   "id": "02e4c4a6",
   "metadata": {},
   "source": [
    "# sql code\n"
   ]
  },
  {
   "cell_type": "code",
   "execution_count": 40,
   "id": "78a3dcf3",
   "metadata": {},
   "outputs": [
    {
     "name": "stdout",
     "output_type": "stream",
     "text": [
      "  Status  TotalBasePay\n",
      "0     FT  9.357392e+09\n",
      "1     PT  5.010892e+08\n"
     ]
    }
   ],
   "source": [
    "query=\"\"\"SELECT Status, SUM(BasePay) AS TotalBasePay\n",
    "FROM df\n",
    "GROUP BY Status\"\"\"\n",
    "result = psql.sqldf(query, locals())\n",
    "print(result)"
   ]
  },
  {
   "cell_type": "markdown",
   "id": "88eb1dd7",
   "metadata": {},
   "source": [
    "# Q13: How many employees are there for each job title in each agency?\n"
   ]
  },
  {
   "cell_type": "markdown",
   "id": "d3c768e0",
   "metadata": {},
   "source": [
    "# PYTHON CODE\n"
   ]
  },
  {
   "cell_type": "code",
   "execution_count": 41,
   "id": "444c05cb",
   "metadata": {},
   "outputs": [
    {
     "name": "stdout",
     "output_type": "stream",
     "text": [
      "Agency         JobTitle                                      \n",
      "San Francisco  account clerk                                     351\n",
      "               accountant                                          5\n",
      "               accountant i                                        8\n",
      "               accountant ii                                     226\n",
      "               accountant iii                                    278\n",
      "                                                                ... \n",
      "               worker's compensation supervisor i                  5\n",
      "               x-ray laboratory aide                             126\n",
      "               youth comm advisor                                  4\n",
      "               youth commission advisor, board of supervisors      1\n",
      "               zoo curator                                         1\n",
      "Length: 1636, dtype: int64\n"
     ]
    }
   ],
   "source": [
    "employee_counts = df.groupby(['Agency', 'JobTitle']).size()\n",
    "print(employee_counts)"
   ]
  },
  {
   "cell_type": "markdown",
   "id": "da31123c",
   "metadata": {},
   "source": [
    "# sql code\n"
   ]
  },
  {
   "cell_type": "code",
   "execution_count": 42,
   "id": "0884c998",
   "metadata": {},
   "outputs": [
    {
     "name": "stdout",
     "output_type": "stream",
     "text": [
      "                                            JobTitle  EmployeeCount\n",
      "0                                      account clerk            351\n",
      "1                                         accountant              5\n",
      "2                                       accountant i              8\n",
      "3                                      accountant ii            226\n",
      "4                                     accountant iii            278\n",
      "...                                              ...            ...\n",
      "1631              worker's compensation supervisor i              5\n",
      "1632                           x-ray laboratory aide            126\n",
      "1633                              youth comm advisor              4\n",
      "1634  youth commission advisor, board of supervisors              1\n",
      "1635                                     zoo curator              1\n",
      "\n",
      "[1636 rows x 2 columns]\n"
     ]
    }
   ],
   "source": [
    "query=\"\"\"SELECT JobTitle, COUNT(*) AS EmployeeCount\n",
    "FROM df\n",
    "GROUP BY  JobTitle\"\"\"\n",
    "result = psql.sqldf(query, locals())\n",
    "print(result)"
   ]
  },
  {
   "cell_type": "markdown",
   "id": "14360483",
   "metadata": {},
   "source": [
    "# Q14: Which job title has the highest average Benefits?\n"
   ]
  },
  {
   "cell_type": "markdown",
   "id": "4123790e",
   "metadata": {},
   "source": [
    "# PYTHON CODE\n"
   ]
  },
  {
   "cell_type": "code",
   "execution_count": 43,
   "id": "c8843c6a",
   "metadata": {},
   "outputs": [
    {
     "name": "stdout",
     "output_type": "stream",
     "text": [
      "chief investment officer\n"
     ]
    }
   ],
   "source": [
    "average_benefits_per_job_title = df.groupby('JobTitle')['Benefits'].mean()\n",
    "job_title_highest_avg_benefits = average_benefits_per_job_title.idxmax()\n",
    "print(job_title_highest_avg_benefits)"
   ]
  },
  {
   "cell_type": "markdown",
   "id": "ebbaf66d",
   "metadata": {},
   "source": [
    "# sql code\n"
   ]
  },
  {
   "cell_type": "code",
   "execution_count": 44,
   "id": "2bf4ca41",
   "metadata": {},
   "outputs": [
    {
     "name": "stdout",
     "output_type": "stream",
     "text": [
      "                   JobTitle  AvgBenefits\n",
      "0  chief investment officer     96570.66\n"
     ]
    }
   ],
   "source": [
    "query=\"\"\"SELECT  JobTitle, AVG(Benefits) AS AvgBenefits\n",
    "FROM df\n",
    "GROUP BY JobTitle\n",
    "ORDER BY AvgBenefits DESC\n",
    "LIMIT 1 \"\"\"\n",
    "result = psql.sqldf(query, locals())\n",
    "print(result)"
   ]
  },
  {
   "cell_type": "markdown",
   "id": "19076b23",
   "metadata": {},
   "source": [
    "# Q15: How many years of data are available in the dataset?\n"
   ]
  },
  {
   "cell_type": "markdown",
   "id": "f400c4fb",
   "metadata": {},
   "source": [
    "# PYTHON CODE"
   ]
  },
  {
   "cell_type": "code",
   "execution_count": 45,
   "id": "7c975135",
   "metadata": {},
   "outputs": [
    {
     "name": "stdout",
     "output_type": "stream",
     "text": [
      "4\n"
     ]
    }
   ],
   "source": [
    "years_available = df['Year'].nunique()\n",
    "print(years_available)"
   ]
  },
  {
   "cell_type": "markdown",
   "id": "39748d2c",
   "metadata": {},
   "source": [
    "# sql code\n"
   ]
  },
  {
   "cell_type": "code",
   "execution_count": 46,
   "id": "86f87ecb",
   "metadata": {},
   "outputs": [
    {
     "name": "stdout",
     "output_type": "stream",
     "text": [
      "   NumYears\n",
      "0         4\n"
     ]
    }
   ],
   "source": [
    "query=\"\"\"SELECT COUNT(DISTINCT Year) AS NumYears\n",
    "FROM df\"\"\"\n",
    "result = psql.sqldf(query, locals())\n",
    "print(result)"
   ]
  },
  {
   "cell_type": "markdown",
   "id": "0f7a55ab",
   "metadata": {},
   "source": [
    "# Q16: What is the average BasePay for each year and job title combination?\n"
   ]
  },
  {
   "cell_type": "markdown",
   "id": "e64bde6c",
   "metadata": {},
   "source": [
    "# PYTHON CODE\n"
   ]
  },
  {
   "cell_type": "code",
   "execution_count": 48,
   "id": "1470459e",
   "metadata": {},
   "outputs": [
    {
     "name": "stdout",
     "output_type": "stream",
     "text": [
      "Year  JobTitle                      \n",
      "2011  account clerk                     43300.806506\n",
      "      accountant                        46643.172000\n",
      "      accountant intern                 28732.663958\n",
      "      acupuncturist                     66374.400000\n",
      "      administrative analyst            63435.628602\n",
      "                                            ...     \n",
      "2014  wire rope cable maint sprv        93904.720000\n",
      "      worker's comp supervisor 1        54505.333333\n",
      "      worker's compensation adjuster    69915.985385\n",
      "      x-ray laboratory aide             45490.340286\n",
      "      youth comm advisor                32417.420000\n",
      "Name: BasePay, Length: 4136, dtype: float64\n"
     ]
    }
   ],
   "source": [
    "avg_basepay_per_year_job_title = df.groupby(['Year', 'JobTitle'])['BasePay'].mean()\n",
    "print(avg_basepay_per_year_job_title)"
   ]
  },
  {
   "cell_type": "markdown",
   "id": "9067d445",
   "metadata": {},
   "source": [
    "# sql code"
   ]
  },
  {
   "cell_type": "code",
   "execution_count": 49,
   "id": "e766c446",
   "metadata": {},
   "outputs": [
    {
     "name": "stdout",
     "output_type": "stream",
     "text": [
      "      Year                        JobTitle    AvgBasePay\n",
      "0     2011                   account clerk  43300.806506\n",
      "1     2011                      accountant  46643.172000\n",
      "2     2011               accountant intern  28732.663958\n",
      "3     2011                   acupuncturist  66374.400000\n",
      "4     2011          administrative analyst  63435.628602\n",
      "...    ...                             ...           ...\n",
      "4131  2014      wire rope cable maint sprv  93904.720000\n",
      "4132  2014      worker's comp supervisor 1  54505.333333\n",
      "4133  2014  worker's compensation adjuster  69915.985385\n",
      "4134  2014           x-ray laboratory aide  45490.340286\n",
      "4135  2014              youth comm advisor  32417.420000\n",
      "\n",
      "[4136 rows x 3 columns]\n"
     ]
    }
   ],
   "source": [
    "query=\"\"\"SELECT Year, JobTitle, AVG(BasePay) AS AvgBasePay\n",
    "FROM df\n",
    "GROUP BY Year, JobTitle\"\"\"\n",
    "result = psql.sqldf(query, locals())\n",
    "print(result)"
   ]
  },
  {
   "cell_type": "markdown",
   "id": "ed0854db",
   "metadata": {},
   "source": [
    "# Q17: How many employees have a TotalPayBenefits greater than $326373.19??\n"
   ]
  },
  {
   "cell_type": "markdown",
   "id": "80d84e50",
   "metadata": {},
   "source": [
    "# PYTHON CODE"
   ]
  },
  {
   "cell_type": "code",
   "execution_count": 50,
   "id": "b91d6975",
   "metadata": {},
   "outputs": [
    {
     "name": "stdout",
     "output_type": "stream",
     "text": [
      "144\n"
     ]
    }
   ],
   "source": [
    "num_employees= df[df['TotalPayBenefits'] > 326373.19].shape[0]\n",
    "print(num_employees)"
   ]
  },
  {
   "cell_type": "markdown",
   "id": "66543516",
   "metadata": {},
   "source": [
    "# sql code\n"
   ]
  },
  {
   "cell_type": "code",
   "execution_count": 51,
   "id": "7d547546",
   "metadata": {},
   "outputs": [
    {
     "name": "stdout",
     "output_type": "stream",
     "text": [
      "   NumEmployees\n",
      "0           144\n"
     ]
    }
   ],
   "source": [
    "query=\"\"\"SELECT COUNT(*) AS NumEmployees\n",
    "FROM df\n",
    "WHERE TotalPayBenefits > 326373.19\"\"\"\n",
    "result = psql.sqldf(query, locals())\n",
    "print(result)"
   ]
  },
  {
   "cell_type": "markdown",
   "id": "a4b34ec0",
   "metadata": {},
   "source": [
    "# Q18: Which agency has the highest average TotalPayBenefits?\n"
   ]
  },
  {
   "cell_type": "markdown",
   "id": "c8f43ddf",
   "metadata": {},
   "source": [
    "# PYTHON CODE\n"
   ]
  },
  {
   "cell_type": "code",
   "execution_count": 52,
   "id": "117e5bc0",
   "metadata": {},
   "outputs": [
    {
     "name": "stdout",
     "output_type": "stream",
     "text": [
      "San Francisco\n"
     ]
    }
   ],
   "source": [
    "avg_totalpaybenefits_per_agency = df.groupby('Agency')['TotalPayBenefits'].mean()\n",
    "highest_avg_totalpaybenefits_agency = avg_totalpaybenefits_per_agency.idxmax()\n",
    "print(highest_avg_totalpaybenefits_agency)"
   ]
  },
  {
   "cell_type": "markdown",
   "id": "4145f7fd",
   "metadata": {},
   "source": [
    "# sql code\n"
   ]
  },
  {
   "cell_type": "code",
   "execution_count": 53,
   "id": "d4d17051",
   "metadata": {},
   "outputs": [
    {
     "name": "stdout",
     "output_type": "stream",
     "text": [
      "          Agency  AvgTotalPayBenefits\n",
      "0  San Francisco         93695.080429\n"
     ]
    }
   ],
   "source": [
    "query=\"\"\"SELECT  Agency, AVG(TotalPayBenefits) AS AvgTotalPayBenefits\n",
    "FROM df\n",
    "GROUP BY Agency\n",
    "ORDER BY AvgTotalPayBenefits DESC\n",
    "LIMIT 1\"\"\"\n",
    "result = psql.sqldf(query, locals())\n",
    "print(result)"
   ]
  }
 ],
 "metadata": {
  "kernelspec": {
   "display_name": "Python 3",
   "language": "python",
   "name": "python3"
  },
  "language_info": {
   "codemirror_mode": {
    "name": "ipython",
    "version": 3
   },
   "file_extension": ".py",
   "mimetype": "text/x-python",
   "name": "python",
   "nbconvert_exporter": "python",
   "pygments_lexer": "ipython3",
   "version": "3.8.8"
  }
 },
 "nbformat": 4,
 "nbformat_minor": 5
}
